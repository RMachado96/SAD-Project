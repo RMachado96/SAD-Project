{
  "nbformat": 4,
  "nbformat_minor": 0,
  "metadata": {
    "colab": {
      "name": "SADProject.ipynb",
      "version": "0.3.2",
      "provenance": [],
      "collapsed_sections": []
    },
    "kernelspec": {
      "name": "python3",
      "display_name": "Python 3"
    }
  },
  "cells": [
    {
      "metadata": {
        "id": "0CXx9s4AEnBL",
        "colab_type": "code",
        "colab": {}
      },
      "cell_type": "code",
      "source": [
        "import sklearn.datasets as datasets\n",
        "import pandas as pd\n",
        "import numpy as np\n",
        "import matplotlib.pyplot as plt\n",
        "import pylab as plab\n",
        "import pickle\n",
        "from sklearn.tree import DecisionTreeClassifier, export_graphviz\n",
        "from sklearn.ensemble import RandomForestClassifier\n",
        "from sklearn.impute import SimpleImputer\n",
        "from sklearn.model_selection import train_test_split, cross_val_score\n",
        "from sklearn.neural_network import MLPClassifier\n",
        "\n",
        "np.warnings.filterwarnings('ignore') # Due to the presence of NaN values"
      ],
      "execution_count": 0,
      "outputs": []
    },
    {
      "metadata": {
        "id": "0YuoS3YCK93d",
        "colab_type": "code",
        "colab": {}
      },
      "cell_type": "code",
      "source": [
        "from google.colab import files\n",
        "\n",
        "files.upload() #upload 'gtd_reduxed_v2.csv' and 'region_dict.pickle'"
      ],
      "execution_count": 0,
      "outputs": []
    },
    {
      "metadata": {
        "id": "SPWH5FS1EPGb",
        "colab_type": "code",
        "colab": {}
      },
      "cell_type": "code",
      "source": [
        "df = pd.read_csv('gtd_reduxed_v2.csv', encoding = 'ISO-8859-1')\n",
        "pickle_in = open(\"region_dict.pickle\",\"rb\")\n",
        "loaded_region_dict = pickle.load(pickle_in)"
      ],
      "execution_count": 0,
      "outputs": []
    },
    {
      "metadata": {
        "id": "ljnbOaIsPyXL",
        "colab_type": "code",
        "outputId": "9b0d64cc-0e93-4585-b985-f9767ce503ef",
        "colab": {
          "base_uri": "https://localhost:8080/",
          "height": 102
        }
      },
      "cell_type": "code",
      "source": [
        "columns = ['imonth', 'iday', 'extended', 'region',\n",
        "       'success', 'suicide', 'attacktype1',\n",
        "       'targtype1', 'targsubtype1',\n",
        "       'natlty1', 'weaptype1', 'nkill',\n",
        "       'nkillter', 'nwound', 'nwoundte']\n",
        "\n",
        "columns2 =['targsubtype1', 'natlty1']\n",
        "total_lines = 181691\n",
        "total_cells = 15 * total_lines\n",
        "counter = 1\n",
        "nan_dict = {}\n",
        "\n",
        "for i in df.index:\n",
        "  for j in columns:\n",
        "    if j not in nan_dict:\n",
        "      nan_dict[j]=0\n",
        "        \n",
        "    val = df.loc[i,j]\n",
        "    try:\n",
        "      if np.isnan(val):\n",
        "        nan_dict[j]+=1\n",
        "    except:\n",
        "      print('There was an exception running column ' + str(j))\n",
        "    perc_calc = (counter/total_cells)*100\n",
        "    if(perc_calc % 10 == 0):\n",
        "      print('Done ' + str(perc_calc) + '%.')\n",
        "    counter+=1\n",
        "  "
      ],
      "execution_count": 0,
      "outputs": [
        {
          "output_type": "stream",
          "text": [
            "Done 20.0%.\n",
            "Done 40.0%.\n",
            "Done 60.0%.\n",
            "Done 80.0%.\n",
            "Done 100.0%.\n"
          ],
          "name": "stdout"
        }
      ]
    },
    {
      "metadata": {
        "id": "CpGUOkCCop7v",
        "colab_type": "code",
        "outputId": "80140a29-5a95-456e-a3a6-ba254a3408d3",
        "colab": {
          "base_uri": "https://localhost:8080/",
          "height": 1071
        }
      },
      "cell_type": "code",
      "source": [
        "total_nans = 0\n",
        "\n",
        "for x,y in nan_dict.items():\n",
        "  spar = (y/total_lines)*100\n",
        "  total_nans += y\n",
        "  print()\n",
        "  print('Current Field: ' + x)\n",
        "  print('Number of NaNs found: ' + str(y))\n",
        "  print('Sparsity of collumm: ' + str(spar))\n",
        "\n",
        "total_spar = (total_nans/total_cells)*100\n",
        "print()\n",
        "print('Total Sparity: ' + str(total_spar))\n"
      ],
      "execution_count": 0,
      "outputs": [
        {
          "output_type": "stream",
          "text": [
            "\n",
            "Current Field: imonth\n",
            "Number of NaNs found: 0\n",
            "Sparsity of collumm: 0.0\n",
            "\n",
            "Current Field: iday\n",
            "Number of NaNs found: 0\n",
            "Sparsity of collumm: 0.0\n",
            "\n",
            "Current Field: extended\n",
            "Number of NaNs found: 0\n",
            "Sparsity of collumm: 0.0\n",
            "\n",
            "Current Field: region\n",
            "Number of NaNs found: 0\n",
            "Sparsity of collumm: 0.0\n",
            "\n",
            "Current Field: success\n",
            "Number of NaNs found: 0\n",
            "Sparsity of collumm: 0.0\n",
            "\n",
            "Current Field: suicide\n",
            "Number of NaNs found: 0\n",
            "Sparsity of collumm: 0.0\n",
            "\n",
            "Current Field: attacktype1\n",
            "Number of NaNs found: 0\n",
            "Sparsity of collumm: 0.0\n",
            "\n",
            "Current Field: targtype1\n",
            "Number of NaNs found: 0\n",
            "Sparsity of collumm: 0.0\n",
            "\n",
            "Current Field: targsubtype1\n",
            "Number of NaNs found: 10373\n",
            "Sparsity of collumm: 5.709143545910364\n",
            "\n",
            "Current Field: natlty1\n",
            "Number of NaNs found: 1559\n",
            "Sparsity of collumm: 0.8580502061191804\n",
            "\n",
            "Current Field: weaptype1\n",
            "Number of NaNs found: 0\n",
            "Sparsity of collumm: 0.0\n",
            "\n",
            "Current Field: nkill\n",
            "Number of NaNs found: 10313\n",
            "Sparsity of collumm: 5.676120446252153\n",
            "\n",
            "Current Field: nkillter\n",
            "Number of NaNs found: 66958\n",
            "Sparsity of collumm: 36.85267844857478\n",
            "\n",
            "Current Field: nwound\n",
            "Number of NaNs found: 16311\n",
            "Sparsity of collumm: 8.977329642084639\n",
            "\n",
            "Current Field: nwoundte\n",
            "Number of NaNs found: 69143\n",
            "Sparsity of collumm: 38.05526966112796\n",
            "\n",
            "Total Sparity: 6.4085727966712716\n"
          ],
          "name": "stdout"
        }
      ]
    },
    {
      "metadata": {
        "id": "6bNwFSxlGaX8",
        "colab_type": "text"
      },
      "cell_type": "markdown",
      "source": [
        "#Catalogar Dataset\n",
        "\n",
        "##Dimensionalidade\n",
        "- 22 Colunas\n",
        "\n",
        "##Esparsidade\n",
        "- Dataset denso, aproximadamente 6.41% de esparsidade total, não foi considerado valores a 0 como possíveis influentes para uma coluna esparsa, visto que este valor é sempre considerável no contexto do modelo. \n",
        "Colunas com maior valor de esparsidade:\n",
        " - targsubtype1 - 5.71%;\n",
        " - nkill - 5.68%;\n",
        " - nkillter - 36.85%;\n",
        " - nwound - 8.98%;\n",
        " - nwoundte - 38.06%\n",
        " \n",
        "##Resolução\n",
        "- Não existem colunas com valores unitários (preço, temperatura, peso, etc..)\n",
        "\n",
        "##Tamanho\n",
        "\n",
        "- 181691 entries\n"
      ]
    },
    {
      "metadata": {
        "id": "bkgb1VIjT4BZ",
        "colab_type": "code",
        "colab": {}
      },
      "cell_type": "code",
      "source": [
        "arrCompleteNum = [2,3,4,5,7,8,9,11,13,15,17,19,20,21,22]\n",
        "arrCompleteText = [6,10,12,18] # nao foi utilizado a coluna 'targsubtype1_txt devido a existencia de valores impossiveis de trabalhar com '"
      ],
      "execution_count": 0,
      "outputs": []
    },
    {
      "metadata": {
        "id": "JUTcP2CUW7FW",
        "colab_type": "code",
        "outputId": "19e319ad-eb2e-404d-dace-d66569862335",
        "colab": {
          "base_uri": "https://localhost:8080/",
          "height": 7014
        }
      },
      "cell_type": "code",
      "source": [
        "for i in arrCompleteNum:\n",
        "  mean = np.mean(df.iloc[:,i])\n",
        "  mode = df.iloc[:,i].mode()\n",
        "  print('Average value of ' + df.columns.values[i] +' is: ' + str(np.around(mean)) + ' and mode is : ' + str(mode[0]))\n",
        "\n",
        "  variance = np.var(df.iloc[:,i])\n",
        "  print('Variance is :  ' + str(np.around(variance,1)))\n",
        "\n",
        "  minVal = np.min(df.iloc[:,i])\n",
        "  maxVal = np.max(df.iloc[:,i])\n",
        "\n",
        "  print('\\n Histogram \\n')\n",
        "  plt.hist(df.iloc[:,i], range=(minVal,maxVal))\n",
        "  plt.show()\n",
        "  print('\\n\\n')\n"
      ],
      "execution_count": 0,
      "outputs": [
        {
          "output_type": "stream",
          "text": [
            "Average value of imonth is: 6.0 and mode is : 5\n",
            "Variance is :  11.5\n",
            "\n",
            " Histogram \n",
            "\n"
          ],
          "name": "stdout"
        },
        {
          "output_type": "display_data",
          "data": {
            "image/png": "[encoded data removed]",
            "text/plain": [
              "<matplotlib.figure.Figure at 0x7f4c8b8399e8>"
            ]
          },
          "metadata": {
            "tags": []
          }
        },
        {
          "output_type": "stream",
          "text": [
            "\n",
            "\n",
            "\n",
            "Average value of iday is: 16.0 and mode is : 15\n",
            "Variance is :  77.7\n",
            "\n",
            " Histogram \n",
            "\n"
          ],
          "name": "stdout"
        },
        {
          "output_type": "display_data",
          "data": {
            "image/png": "[encoded data removed]",
            "text/plain": [
              "<matplotlib.figure.Figure at 0x7f4c8e36a6d8>"
            ]
          },
          "metadata": {
            "tags": []
          }
        },
        {
          "output_type": "stream",
          "text": [
            "\n",
            "\n",
            "\n",
            "Average value of extended is: 0.0 and mode is : 0\n",
            "Variance is :  0.0\n",
            "\n",
            " Histogram \n",
            "\n"
          ],
          "name": "stdout"
        },
        {
          "output_type": "display_data",
          "data": {
            "image/png": "[encoded data removed]",
            "text/plain": [
              "<matplotlib.figure.Figure at 0x7f4c8b4e8048>"
            ]
          },
          "metadata": {
            "tags": []
          }
        },
        {
          "output_type": "stream",
          "text": [
            "\n",
            "\n",
            "\n",
            "Average value of region is: 7.0 and mode is : 10\n",
            "Variance is :  8.6\n",
            "\n",
            " Histogram \n",
            "\n"
          ],
          "name": "stdout"
        },
        {
          "output_type": "display_data",
          "data": {
            "image/png": "[encoded data removed]",
            "text/plain": [
              "<matplotlib.figure.Figure at 0x7f4c8b0a1358>"
            ]
          },
          "metadata": {
            "tags": []
          }
        },
        {
          "output_type": "stream",
          "text": [
            "\n",
            "\n",
            "\n",
            "Average value of success is: 1.0 and mode is : 1\n",
            "Variance is :  0.1\n",
            "\n",
            " Histogram \n",
            "\n"
          ],
          "name": "stdout"
        },
        {
          "output_type": "display_data",
          "data": {
            "image/png": "[encoded data removed]",
            "text/plain": [
              "<matplotlib.figure.Figure at 0x7f4c8b194ac8>"
            ]
          },
          "metadata": {
            "tags": []
          }
        },
        {
          "output_type": "stream",
          "text": [
            "\n",
            "\n",
            "\n",
            "Average value of suicide is: 0.0 and mode is : 0\n",
            "Variance is :  0.0\n",
            "\n",
            " Histogram \n",
            "\n"
          ],
          "name": "stdout"
        },
        {
          "output_type": "display_data",
          "data": {
            "image/png": "[encoded data removed]",
            "text/plain": [
              "<matplotlib.figure.Figure at 0x7f4c8e3996d8>"
            ]
          },
          "metadata": {
            "tags": []
          }
        },
        {
          "output_type": "stream",
          "text": [
            "\n",
            "\n",
            "\n",
            "Average value of attacktype1 is: 3.0 and mode is : 3\n",
            "Variance is :  3.7\n",
            "\n",
            " Histogram \n",
            "\n"
          ],
          "name": "stdout"
        },
        {
          "output_type": "display_data",
          "data": {
            "image/png": "[encoded data removed]",
            "text/plain": [
              "<matplotlib.figure.Figure at 0x7f4c8b0ebcc0>"
            ]
          },
          "metadata": {
            "tags": []
          }
        },
        {
          "output_type": "stream",
          "text": [
            "\n",
            "\n",
            "\n",
            "Average value of targtype1 is: 8.0 and mode is : 14\n",
            "Variance is :  44.3\n",
            "\n",
            " Histogram \n",
            "\n"
          ],
          "name": "stdout"
        },
        {
          "output_type": "display_data",
          "data": {
            "image/png": "[encoded data removed]",
            "text/plain": [
              "<matplotlib.figure.Figure at 0x7f4c926927f0>"
            ]
          },
          "metadata": {
            "tags": []
          }
        },
        {
          "output_type": "stream",
          "text": [
            "\n",
            "\n",
            "\n",
            "Average value of targsubtype1 is: 47.0 and mode is : 67.0\n",
            "Variance is :  958.1\n",
            "\n",
            " Histogram \n",
            "\n"
          ],
          "name": "stdout"
        },
        {
          "output_type": "display_data",
          "data": {
            "image/png": "[encoded data removed]",
            "text/plain": [
              "<matplotlib.figure.Figure at 0x7f4c8e3a4780>"
            ]
          },
          "metadata": {
            "tags": []
          }
        },
        {
          "output_type": "stream",
          "text": [
            "\n",
            "\n",
            "\n",
            "Average value of natlty1 is: 128.0 and mode is : 95.0\n",
            "Variance is :  7974.3\n",
            "\n",
            " Histogram \n",
            "\n"
          ],
          "name": "stdout"
        },
        {
          "output_type": "display_data",
          "data": {
            "image/png": "[encoded data removed]",
            "text/plain": [
              "<matplotlib.figure.Figure at 0x7f4c8b832a20>"
            ]
          },
          "metadata": {
            "tags": []
          }
        },
        {
          "output_type": "stream",
          "text": [
            "\n",
            "\n",
            "\n",
            "Average value of weaptype1 is: 6.0 and mode is : 6\n",
            "Variance is :  4.7\n",
            "\n",
            " Histogram \n",
            "\n"
          ],
          "name": "stdout"
        },
        {
          "output_type": "display_data",
          "data": {
            "image/png": "[encoded data removed]",
            "text/plain": [
              "<matplotlib.figure.Figure at 0x7f4c8b782668>"
            ]
          },
          "metadata": {
            "tags": []
          }
        },
        {
          "output_type": "stream",
          "text": [
            "\n",
            "\n",
            "\n",
            "Average value of nkill is: 2.0 and mode is : 0.0\n",
            "Variance is :  133.3\n",
            "\n",
            " Histogram \n",
            "\n"
          ],
          "name": "stdout"
        },
        {
          "output_type": "display_data",
          "data": {
            "image/png": "[encoded data removed]",
            "text/plain": [
              "<matplotlib.figure.Figure at 0x7f4c8b782438>"
            ]
          },
          "metadata": {
            "tags": []
          }
        },
        {
          "output_type": "stream",
          "text": [
            "\n",
            "\n",
            "\n",
            "Average value of nkillter is: 1.0 and mode is : 0.0\n",
            "Variance is :  17.6\n",
            "\n",
            " Histogram \n",
            "\n"
          ],
          "name": "stdout"
        },
        {
          "output_type": "display_data",
          "data": {
            "image/png": "[encoded data removed]",
            "text/plain": [
              "<matplotlib.figure.Figure at 0x7f4c8b5ba1d0>"
            ]
          },
          "metadata": {
            "tags": []
          }
        },
        {
          "output_type": "stream",
          "text": [
            "\n",
            "\n",
            "\n",
            "Average value of nwound is: 3.0 and mode is : 0.0\n",
            "Variance is :  1292.4\n",
            "\n",
            " Histogram \n",
            "\n"
          ],
          "name": "stdout"
        },
        {
          "output_type": "display_data",
          "data": {
            "image/png": "[encoded data removed]",
            "text/plain": [
              "<matplotlib.figure.Figure at 0x7f4c8b468e80>"
            ]
          },
          "metadata": {
            "tags": []
          }
        },
        {
          "output_type": "stream",
          "text": [
            "\n",
            "\n",
            "\n",
            "Average value of nwoundte is: 0.0 and mode is : 0.0\n",
            "Variance is :  2.2\n",
            "\n",
            " Histogram \n",
            "\n"
          ],
          "name": "stdout"
        },
        {
          "output_type": "display_data",
          "data": {
            "image/png": "[encoded data removed]",
            "text/plain": [
              "<matplotlib.figure.Figure at 0x7f4c8b2e77f0>"
            ]
          },
          "metadata": {
            "tags": []
          }
        },
        {
          "output_type": "stream",
          "text": [
            "\n",
            "\n",
            "\n"
          ],
          "name": "stdout"
        }
      ]
    },
    {
      "metadata": {
        "id": "_qpBPkWXhNq8",
        "colab_type": "code",
        "colab": {}
      },
      "cell_type": "code",
      "source": [
        "for i in arrCompleteText:\n",
        "  mode = df.iloc[:,i].mode()\n",
        "  print('Mode of ' + df.columns.values[i] + ' is : ' + mode[0])\n",
        "\n",
        "  minVal = np.min(df.iloc[:,i].apply(str))\n",
        "  maxVal = np.max(df.iloc[:,i].apply(str))\n",
        "\n",
        "  print('\\n Histogram \\n')\n",
        "  fig, ax = plt.subplots(1, 1)\n",
        "  \n",
        "  counts, bins, bars = ax.hist(df.iloc[:,i].apply(str), range=(minVal,maxVal))\n",
        "  for tick in ax.get_xticklabels():\n",
        "    tick.set_rotation(90)\n",
        "  \n",
        "  plt.show()\n",
        "  print('\\n\\n')\n",
        "  "
      ],
      "execution_count": 0,
      "outputs": []
    },
    {
      "metadata": {
        "id": "_7sYuRWGwICH",
        "colab_type": "text"
      },
      "cell_type": "markdown",
      "source": [
        "#Catalogar Features\n",
        "\n",
        "##Tipo\n",
        "- Discreto:\n",
        "  - iyear; imonth; iday; country; region; attacktype1; targtype1; targsubtype1; natlty1; weaptype1; nkill; nkillter; nwound; nwoundte \n",
        "- Binário:\n",
        "  - extended; success; suicide;\n",
        "\n",
        "\n"
      ]
    },
    {
      "metadata": {
        "id": "P63VONjAQJ_a",
        "colab_type": "code",
        "colab": {}
      },
      "cell_type": "code",
      "source": [
        "### DATA PREPARATION ###\n",
        "\n",
        "targets = df['region'].unique()\n",
        "df_test = df.loc[0:,['region','imonth','iday','extended','success','suicide','attacktype1','targtype1','targsubtype1','natlty1','weaptype1','nkill','nkillter','nwound','nwoundte']]\n",
        "\n",
        "features = list(df_test.columns[1:])\n",
        "df_test.replace([np.inf, -np.inf], np.nan)\n",
        "\n",
        "\n",
        "# \"mini-modelo\" que subsitui valores infinitos e NaNs pelo valor mais comum de modo a permitir a aplicaçao do modelo de classificação \n",
        "\n",
        "imp_mean = SimpleImputer(missing_values=np.nan, strategy='most_frequent')\n",
        "\n",
        "y = df_test['region']\n",
        "X = df_test[features]\n",
        "\n",
        "imp_mean.fit(X,y)\n",
        "X = imp_mean.transform(X)\n",
        "\n",
        "\n",
        "# divisao train / test\n",
        "X_train, X_test, y_train, y_test = train_test_split( X, y, test_size=0.2, random_state=42)\n",
        "\n",
        "# divisao train / validation\n",
        "X_train, X_val, y_train, y_val = train_test_split( X_train, y_train, test_size=0.1, random_state=42)\n",
        "\n",
        "\n"
      ],
      "execution_count": 0,
      "outputs": []
    },
    {
      "metadata": {
        "id": "A4QZkBR446Vp",
        "colab_type": "code",
        "outputId": "bb239848-1e43-4c37-e636-edbec5336312",
        "colab": {
          "base_uri": "https://localhost:8080/",
          "height": 51
        }
      },
      "cell_type": "code",
      "source": [
        "### DECISION TREE ###\n",
        "\n",
        "dt = DecisionTreeClassifier(min_samples_split=20, random_state=99)\n",
        "dt.fit(X_train, y_train)\n",
        "\n",
        "score_train = dt.score(X_train, y_train)\n",
        "score_test = dt.score(X_test, y_test)\n",
        "\n",
        "print(\"Score train: \" + str(score_train))\n",
        "print(\"Score test: \" + str(score_test))"
      ],
      "execution_count": 23,
      "outputs": [
        {
          "output_type": "stream",
          "text": [
            "Score train: 0.9666554549902152\n",
            "Score test: 0.952172596934423\n"
          ],
          "name": "stdout"
        }
      ]
    },
    {
      "metadata": {
        "id": "VzgQ1T5r6UjQ",
        "colab_type": "code",
        "colab": {}
      },
      "cell_type": "code",
      "source": [
        "# test_predict holds the prediction test sequences to be applied to the various models taken from the existing dataset\n",
        "test_predict=[[12,31,0,0,0,3,2,21.0,92.0,6,0.0,0.0,0.0,0.0], \n",
        "              [12,31,0,1,0,7,14,76.0,160.0,8,0.0,0.0,0.0,0.0],\n",
        "              [12,31,0,1,0,2,4,36.0,182.0,5,1.0,0.0,2.0,0.0],\n",
        "              [12,31,0,1,0,3,4,27.0,167.0,6,2.0,0.0,7.0,0.0],\n",
        "              [12,28,0,1,0,7,15,86.0,92.0,8,1.0,0.0,0.0,0.0],\n",
        "              [1,25,0,1,0,7,14,71.0,217.0,8,0.0,0.0,0.0,0.0],\n",
        "              [12,30,0,1,0,2,14,67.0,233.0,5,0.0,0.0,2.0,0.0],\n",
        "              [1,19,0,0,0,3,4,28.0,217.0,6,0.0,0.0,0.0,0.0],\n",
        "              [3,28,0,1,0,3,10,55.0,11.0,6,0.0,0.0,0.0,0.0],\n",
        "              [11,8,0,1,0,3,1,3.0,61.0,6,0.0,0.0,0.0,0.0]]\n",
        "\n",
        "# real_value holds the true values of the target label 'region' corresponding to test_predict\n",
        "\n",
        "real_value = [6,5,11,10,6,1,8,1,3,2] #2 has NaN in 'nkillter' and 'nwoundte', columns replaced in test_predict with most common = 0.0"
      ],
      "execution_count": 0,
      "outputs": []
    },
    {
      "metadata": {
        "id": "SawgYC_1H2_y",
        "colab_type": "code",
        "outputId": "8c57c093-3772-4717-9ba1-db948ad4083f",
        "colab": {
          "base_uri": "https://localhost:8080/",
          "height": 187
        }
      },
      "cell_type": "code",
      "source": [
        "### DECISION TREE PREDICTION TEST ###\n",
        "\n",
        "#'imonth','iday','extended','success','suicide','attacktype1','targtype1','targsubtype1','natlty1','weaptype1','nkill','nkillter','nwound','nwoundte'\n",
        "\n",
        "real_value_txt = []\n",
        "counter = 0;\n",
        "\n",
        "for i in real_value:\n",
        "  for x,y in loaded_region_dict.items():\n",
        "    if y == i:\n",
        "      real_value_txt.append(x)\n",
        "\n",
        "test_result = dt.predict(test_predict)\n",
        "\n",
        "for i in test_result:\n",
        "  for x,y in loaded_region_dict.items():\n",
        "    if y == i:\n",
        "      print(\"Real region is : \" + real_value_txt[counter] +\"\\t\\tPredicted region is: \" + x)\n",
        "      counter +=1\n",
        "      \n"
      ],
      "execution_count": 0,
      "outputs": [
        {
          "output_type": "stream",
          "text": [
            "Real region is : South Asia\t\tPredicted region is: South Asia\n",
            "Real region is : Southeast Asia\t\tPredicted region is: Southeast Asia\n",
            "Real region is : Sub-Saharan Africa\t\tPredicted region is: Sub-Saharan Africa\n",
            "Real region is : Middle East & North Africa\t\tPredicted region is: Eastern Europe\n",
            "Real region is : South Asia\t\tPredicted region is: South Asia\n",
            "Real region is : North America\t\tPredicted region is: North America\n",
            "Real region is : Western Europe\t\tPredicted region is: Western Europe\n",
            "Real region is : North America\t\tPredicted region is: North America\n",
            "Real region is : South America\t\tPredicted region is: South America\n",
            "Real region is : Central America & Caribbean\t\tPredicted region is: Central America & Caribbean\n"
          ],
          "name": "stdout"
        }
      ]
    },
    {
      "metadata": {
        "id": "0vgdZs2cjesb",
        "colab_type": "code",
        "outputId": "29b2fdcc-014f-47ba-be63-5fb01d0ec08a",
        "colab": {
          "base_uri": "https://localhost:8080/",
          "height": 51
        }
      },
      "cell_type": "code",
      "source": [
        "### RANDOM FORREST ###\n",
        "rf = RandomForestClassifier(max_depth=14, random_state=0,n_estimators=100)\n",
        "rf.fit(X_train,y_train)\n",
        "\n",
        "score_train = rf.score(X_train, y_train)\n",
        "score_test = rf.score(X_test, y_test)\n",
        "\n",
        "print(\"Score train: \" + str(score_train))\n",
        "print(\"Score test: \" + str(score_test))"
      ],
      "execution_count": 18,
      "outputs": [
        {
          "output_type": "stream",
          "text": [
            "Score train: 0.43021555548253543\n",
            "Score test: 0.4331960172784736\n"
          ],
          "name": "stdout"
        }
      ]
    },
    {
      "metadata": {
        "id": "yOo4IZPwPVzL",
        "colab_type": "code",
        "colab": {}
      },
      "cell_type": "code",
      "source": [
        "depth_val = 14\n",
        "score_result = []\n",
        "\n",
        "for i in range (26):\n",
        "  rf = RandomForestClassifier(max_depth=depth_val, random_state=0,n_estimators=100)\n",
        "  scores = cross_val_score(rf,X_train,y_train,cv=5)\n",
        "  print(\"Average value for \"+ str(depth_val) + \" is : \" + str(scores.mean()))\n",
        "  score_result.append(scores.mean())      \n",
        "  depth_val +=4\n",
        "  \n",
        "score_result  "
      ],
      "execution_count": 0,
      "outputs": []
    },
    {
      "metadata": {
        "id": "NB04a9kr5QvI",
        "colab_type": "code",
        "outputId": "de8f5717-cc61-4993-ffa9-5a549b77077e",
        "colab": {
          "base_uri": "https://localhost:8080/",
          "height": 187
        }
      },
      "cell_type": "code",
      "source": [
        "### RANDOM FORREST PREDICTION TEST ###\n",
        "real_value_txt = []\n",
        "counter = 0;\n",
        "\n",
        "for i in real_value:\n",
        "  for x,y in loaded_region_dict.items():\n",
        "    if y == i:\n",
        "      real_value_txt.append(x)\n",
        "\n",
        "test_result = rf.predict(test_predict)\n",
        "\n",
        "for i in test_result:\n",
        "  for x,y in loaded_region_dict.items():\n",
        "    if y == i:\n",
        "      print(\"Real region is : \" + real_value_txt[counter] +\"\\t\\tPredicted region is: \" + x)\n",
        "      counter +=1"
      ],
      "execution_count": 0,
      "outputs": [
        {
          "output_type": "stream",
          "text": [
            "Real region is : South Asia\t\tPredicted region is: South Asia\n",
            "Real region is : Southeast Asia\t\tPredicted region is: Southeast Asia\n",
            "Real region is : Sub-Saharan Africa\t\tPredicted region is: Sub-Saharan Africa\n",
            "Real region is : Middle East & North Africa\t\tPredicted region is: Middle East & North Africa\n",
            "Real region is : South Asia\t\tPredicted region is: South Asia\n",
            "Real region is : North America\t\tPredicted region is: North America\n",
            "Real region is : Western Europe\t\tPredicted region is: Western Europe\n",
            "Real region is : North America\t\tPredicted region is: Western Europe\n",
            "Real region is : South America\t\tPredicted region is: South America\n",
            "Real region is : Central America & Caribbean\t\tPredicted region is: Central America & Caribbean\n"
          ],
          "name": "stdout"
        }
      ]
    },
    {
      "metadata": {
        "id": "Muokl7Co4jsZ",
        "colab_type": "code",
        "outputId": "1a3965f1-cc8c-4c84-f22f-5d9a6ceeaa4d",
        "colab": {
          "base_uri": "https://localhost:8080/",
          "height": 51
        }
      },
      "cell_type": "code",
      "source": [
        "### MLP - Multi-layer Perceptron ###\n",
        "\n",
        "mlp = MLPClassifier(solver='adam', alpha=1e-5,hidden_layer_sizes=(17, 12), random_state=1,max_iter = 250)\n",
        "mlp.fit(X_train,y_train)\n",
        "\n",
        "score_train = mlp.score(X_train, y_train)\n",
        "score_test = mlp.score(X_test, y_test)\n",
        "\n",
        "print(\"Score train: \" + str(score_train))\n",
        "print(\"Score test: \" + str(score_test))"
      ],
      "execution_count": 0,
      "outputs": [
        {
          "output_type": "stream",
          "text": [
            "Score train: 0.660804061380738\n",
            "Score test: 0.6620357244116813\n"
          ],
          "name": "stdout"
        }
      ]
    },
    {
      "metadata": {
        "id": "iQBMgwv36EIs",
        "colab_type": "code",
        "outputId": "29f25b8a-5750-4ef3-981a-19f8a4a50d69",
        "colab": {
          "base_uri": "https://localhost:8080/",
          "height": 187
        }
      },
      "cell_type": "code",
      "source": [
        "### MLP PREDICTION TEST ###\n",
        "real_value_txt = []\n",
        "counter = 0;\n",
        "\n",
        "for i in real_value:\n",
        "  for x,y in loaded_region_dict.items():\n",
        "    if y == i:\n",
        "      real_value_txt.append(x)\n",
        "\n",
        "test_result = mlp.predict(test_predict)\n",
        "\n",
        "for i in test_result:\n",
        "  for x,y in loaded_region_dict.items():\n",
        "    if y == i:\n",
        "      print(\"Real region is : \" + real_value_txt[counter] +\"\\t\\tPredicted region is: \" + x)\n",
        "      counter +=1\n"
      ],
      "execution_count": 0,
      "outputs": [
        {
          "output_type": "stream",
          "text": [
            "Real region is : South Asia\t\tPredicted region is: Middle East & North Africa\n",
            "Real region is : Southeast Asia\t\tPredicted region is: South America\n",
            "Real region is : Sub-Saharan Africa\t\tPredicted region is: Sub-Saharan Africa\n",
            "Real region is : Middle East & North Africa\t\tPredicted region is: Sub-Saharan Africa\n",
            "Real region is : South Asia\t\tPredicted region is: South Asia\n",
            "Real region is : North America\t\tPredicted region is: Western Europe\n",
            "Real region is : Western Europe\t\tPredicted region is: Middle East & North Africa\n",
            "Real region is : North America\t\tPredicted region is: Western Europe\n",
            "Real region is : South America\t\tPredicted region is: South America\n",
            "Real region is : Central America & Caribbean\t\tPredicted region is: Western Europe\n"
          ],
          "name": "stdout"
        }
      ]
    },
    {
      "metadata": {
        "id": "-vlr70e6NUTf",
        "colab_type": "code",
        "outputId": "1f216be9-5650-44b3-fe36-7138a76aa061",
        "colab": {
          "base_uri": "https://localhost:8080/",
          "height": 613
        }
      },
      "cell_type": "code",
      "source": [
        "df.corr()"
      ],
      "execution_count": 0,
      "outputs": [
        {
          "output_type": "execute_result",
          "data": {
            "text/html": [
              "<div>\n",
              "<style scoped>\n",
              "    .dataframe tbody tr th:only-of-type {\n",
              "        vertical-align: middle;\n",
              "    }\n",
              "\n",
              "    .dataframe tbody tr th {\n",
              "        vertical-align: top;\n",
              "    }\n",
              "\n",
              "    .dataframe thead th {\n",
              "        text-align: right;\n",
              "    }\n",
              "</style>\n",
              "<table border=\"1\" class=\"dataframe\">\n",
              "  <thead>\n",
              "    <tr style=\"text-align: right;\">\n",
              "      <th></th>\n",
              "      <th>Unnamed: 0</th>\n",
              "      <th>eventid</th>\n",
              "      <th>imonth</th>\n",
              "      <th>iday</th>\n",
              "      <th>extended</th>\n",
              "      <th>region</th>\n",
              "      <th>success</th>\n",
              "      <th>suicide</th>\n",
              "      <th>attacktype1</th>\n",
              "      <th>targtype1</th>\n",
              "      <th>targsubtype1</th>\n",
              "      <th>natlty1</th>\n",
              "      <th>weaptype1</th>\n",
              "      <th>nkill</th>\n",
              "      <th>nkillter</th>\n",
              "      <th>nwound</th>\n",
              "      <th>nwoundte</th>\n",
              "    </tr>\n",
              "  </thead>\n",
              "  <tbody>\n",
              "    <tr>\n",
              "      <th>Unnamed: 0</th>\n",
              "      <td>1.000000</td>\n",
              "      <td>0.955971</td>\n",
              "      <td>0.034361</td>\n",
              "      <td>0.025062</td>\n",
              "      <td>0.092043</td>\n",
              "      <td>0.386987</td>\n",
              "      <td>-0.109257</td>\n",
              "      <td>0.134261</td>\n",
              "      <td>0.090415</td>\n",
              "      <td>0.079403</td>\n",
              "      <td>0.043323</td>\n",
              "      <td>-0.008359</td>\n",
              "      <td>0.010851</td>\n",
              "      <td>0.015216</td>\n",
              "      <td>0.048305</td>\n",
              "      <td>0.008508</td>\n",
              "      <td>0.043430</td>\n",
              "    </tr>\n",
              "    <tr>\n",
              "      <th>eventid</th>\n",
              "      <td>0.955971</td>\n",
              "      <td>1.000000</td>\n",
              "      <td>0.002706</td>\n",
              "      <td>0.018336</td>\n",
              "      <td>0.091761</td>\n",
              "      <td>0.401371</td>\n",
              "      <td>-0.082972</td>\n",
              "      <td>0.137743</td>\n",
              "      <td>0.074173</td>\n",
              "      <td>0.079080</td>\n",
              "      <td>0.048798</td>\n",
              "      <td>-0.019084</td>\n",
              "      <td>-0.011716</td>\n",
              "      <td>0.015351</td>\n",
              "      <td>0.027579</td>\n",
              "      <td>0.015282</td>\n",
              "      <td>0.027904</td>\n",
              "    </tr>\n",
              "    <tr>\n",
              "      <th>imonth</th>\n",
              "      <td>0.034361</td>\n",
              "      <td>0.002706</td>\n",
              "      <td>1.000000</td>\n",
              "      <td>0.005497</td>\n",
              "      <td>-0.000468</td>\n",
              "      <td>-0.002999</td>\n",
              "      <td>-0.002845</td>\n",
              "      <td>0.003071</td>\n",
              "      <td>0.006705</td>\n",
              "      <td>-0.000948</td>\n",
              "      <td>0.001508</td>\n",
              "      <td>-0.004838</td>\n",
              "      <td>0.007863</td>\n",
              "      <td>0.003463</td>\n",
              "      <td>0.003462</td>\n",
              "      <td>0.002938</td>\n",
              "      <td>0.005091</td>\n",
              "    </tr>\n",
              "    <tr>\n",
              "      <th>iday</th>\n",
              "      <td>0.025062</td>\n",
              "      <td>0.018336</td>\n",
              "      <td>0.005497</td>\n",
              "      <td>1.000000</td>\n",
              "      <td>-0.004700</td>\n",
              "      <td>0.009710</td>\n",
              "      <td>-0.011802</td>\n",
              "      <td>0.003593</td>\n",
              "      <td>-0.005333</td>\n",
              "      <td>-0.000052</td>\n",
              "      <td>-0.003184</td>\n",
              "      <td>0.003845</td>\n",
              "      <td>-0.003019</td>\n",
              "      <td>-0.003693</td>\n",
              "      <td>-0.002012</td>\n",
              "      <td>-0.001268</td>\n",
              "      <td>0.001812</td>\n",
              "    </tr>\n",
              "    <tr>\n",
              "      <th>extended</th>\n",
              "      <td>0.092043</td>\n",
              "      <td>0.091761</td>\n",
              "      <td>-0.000468</td>\n",
              "      <td>-0.004700</td>\n",
              "      <td>1.000000</td>\n",
              "      <td>0.038389</td>\n",
              "      <td>0.073233</td>\n",
              "      <td>-0.033961</td>\n",
              "      <td>0.272272</td>\n",
              "      <td>0.011613</td>\n",
              "      <td>0.022996</td>\n",
              "      <td>0.013609</td>\n",
              "      <td>0.207802</td>\n",
              "      <td>0.027737</td>\n",
              "      <td>0.005409</td>\n",
              "      <td>-0.006627</td>\n",
              "      <td>0.001592</td>\n",
              "    </tr>\n",
              "    <tr>\n",
              "      <th>region</th>\n",
              "      <td>0.386987</td>\n",
              "      <td>0.401371</td>\n",
              "      <td>-0.002999</td>\n",
              "      <td>0.009710</td>\n",
              "      <td>0.038389</td>\n",
              "      <td>1.000000</td>\n",
              "      <td>-0.030909</td>\n",
              "      <td>0.112672</td>\n",
              "      <td>0.007642</td>\n",
              "      <td>0.041396</td>\n",
              "      <td>0.030704</td>\n",
              "      <td>0.149821</td>\n",
              "      <td>0.013257</td>\n",
              "      <td>0.042062</td>\n",
              "      <td>0.026296</td>\n",
              "      <td>0.020472</td>\n",
              "      <td>-0.025643</td>\n",
              "    </tr>\n",
              "    <tr>\n",
              "      <th>success</th>\n",
              "      <td>-0.109257</td>\n",
              "      <td>-0.082972</td>\n",
              "      <td>-0.002845</td>\n",
              "      <td>-0.011802</td>\n",
              "      <td>0.073233</td>\n",
              "      <td>-0.030909</td>\n",
              "      <td>1.000000</td>\n",
              "      <td>-0.031155</td>\n",
              "      <td>0.048408</td>\n",
              "      <td>-0.059637</td>\n",
              "      <td>0.038192</td>\n",
              "      <td>-0.007157</td>\n",
              "      <td>-0.008178</td>\n",
              "      <td>0.053115</td>\n",
              "      <td>-0.019463</td>\n",
              "      <td>0.025804</td>\n",
              "      <td>-0.012840</td>\n",
              "    </tr>\n",
              "    <tr>\n",
              "      <th>suicide</th>\n",
              "      <td>0.134261</td>\n",
              "      <td>0.137743</td>\n",
              "      <td>0.003071</td>\n",
              "      <td>0.003593</td>\n",
              "      <td>-0.033961</td>\n",
              "      <td>0.112672</td>\n",
              "      <td>-0.031155</td>\n",
              "      <td>1.000000</td>\n",
              "      <td>-0.029962</td>\n",
              "      <td>-0.023440</td>\n",
              "      <td>-0.029521</td>\n",
              "      <td>-0.009207</td>\n",
              "      <td>-0.039928</td>\n",
              "      <td>0.136086</td>\n",
              "      <td>0.099133</td>\n",
              "      <td>0.099525</td>\n",
              "      <td>0.001780</td>\n",
              "    </tr>\n",
              "    <tr>\n",
              "      <th>attacktype1</th>\n",
              "      <td>0.090415</td>\n",
              "      <td>0.074173</td>\n",
              "      <td>0.006705</td>\n",
              "      <td>-0.005333</td>\n",
              "      <td>0.272272</td>\n",
              "      <td>0.007642</td>\n",
              "      <td>0.048408</td>\n",
              "      <td>-0.029962</td>\n",
              "      <td>1.000000</td>\n",
              "      <td>0.014513</td>\n",
              "      <td>0.022159</td>\n",
              "      <td>0.013769</td>\n",
              "      <td>0.658954</td>\n",
              "      <td>0.002475</td>\n",
              "      <td>0.036918</td>\n",
              "      <td>0.000846</td>\n",
              "      <td>0.029672</td>\n",
              "    </tr>\n",
              "    <tr>\n",
              "      <th>targtype1</th>\n",
              "      <td>0.079403</td>\n",
              "      <td>0.079080</td>\n",
              "      <td>-0.000948</td>\n",
              "      <td>-0.000052</td>\n",
              "      <td>0.011613</td>\n",
              "      <td>0.041396</td>\n",
              "      <td>-0.059637</td>\n",
              "      <td>-0.023440</td>\n",
              "      <td>0.014513</td>\n",
              "      <td>1.000000</td>\n",
              "      <td>0.982772</td>\n",
              "      <td>-0.034994</td>\n",
              "      <td>0.019846</td>\n",
              "      <td>0.008499</td>\n",
              "      <td>-0.038008</td>\n",
              "      <td>0.011303</td>\n",
              "      <td>-0.032612</td>\n",
              "    </tr>\n",
              "    <tr>\n",
              "      <th>targsubtype1</th>\n",
              "      <td>0.043323</td>\n",
              "      <td>0.048798</td>\n",
              "      <td>0.001508</td>\n",
              "      <td>-0.003184</td>\n",
              "      <td>0.022996</td>\n",
              "      <td>0.030704</td>\n",
              "      <td>0.038192</td>\n",
              "      <td>-0.029521</td>\n",
              "      <td>0.022159</td>\n",
              "      <td>0.982772</td>\n",
              "      <td>1.000000</td>\n",
              "      <td>-0.022785</td>\n",
              "      <td>0.029316</td>\n",
              "      <td>0.016344</td>\n",
              "      <td>-0.032474</td>\n",
              "      <td>0.013889</td>\n",
              "      <td>-0.029691</td>\n",
              "    </tr>\n",
              "    <tr>\n",
              "      <th>natlty1</th>\n",
              "      <td>-0.008359</td>\n",
              "      <td>-0.019084</td>\n",
              "      <td>-0.004838</td>\n",
              "      <td>0.003845</td>\n",
              "      <td>0.013609</td>\n",
              "      <td>0.149821</td>\n",
              "      <td>-0.007157</td>\n",
              "      <td>-0.009207</td>\n",
              "      <td>0.013769</td>\n",
              "      <td>-0.034994</td>\n",
              "      <td>-0.022785</td>\n",
              "      <td>1.000000</td>\n",
              "      <td>-0.008537</td>\n",
              "      <td>0.001667</td>\n",
              "      <td>0.000778</td>\n",
              "      <td>0.001013</td>\n",
              "      <td>-0.044804</td>\n",
              "    </tr>\n",
              "    <tr>\n",
              "      <th>weaptype1</th>\n",
              "      <td>0.010851</td>\n",
              "      <td>-0.011716</td>\n",
              "      <td>0.007863</td>\n",
              "      <td>-0.003019</td>\n",
              "      <td>0.207802</td>\n",
              "      <td>0.013257</td>\n",
              "      <td>-0.008178</td>\n",
              "      <td>-0.039928</td>\n",
              "      <td>0.658954</td>\n",
              "      <td>0.019846</td>\n",
              "      <td>0.029316</td>\n",
              "      <td>-0.008537</td>\n",
              "      <td>1.000000</td>\n",
              "      <td>0.004038</td>\n",
              "      <td>0.042380</td>\n",
              "      <td>-0.009799</td>\n",
              "      <td>0.032963</td>\n",
              "    </tr>\n",
              "    <tr>\n",
              "      <th>nkill</th>\n",
              "      <td>0.015216</td>\n",
              "      <td>0.015351</td>\n",
              "      <td>0.003463</td>\n",
              "      <td>-0.003693</td>\n",
              "      <td>0.027737</td>\n",
              "      <td>0.042062</td>\n",
              "      <td>0.053115</td>\n",
              "      <td>0.136086</td>\n",
              "      <td>0.002475</td>\n",
              "      <td>0.008499</td>\n",
              "      <td>0.016344</td>\n",
              "      <td>0.001667</td>\n",
              "      <td>0.004038</td>\n",
              "      <td>1.000000</td>\n",
              "      <td>0.412111</td>\n",
              "      <td>0.534375</td>\n",
              "      <td>0.141016</td>\n",
              "    </tr>\n",
              "    <tr>\n",
              "      <th>nkillter</th>\n",
              "      <td>0.048305</td>\n",
              "      <td>0.027579</td>\n",
              "      <td>0.003462</td>\n",
              "      <td>-0.002012</td>\n",
              "      <td>0.005409</td>\n",
              "      <td>0.026296</td>\n",
              "      <td>-0.019463</td>\n",
              "      <td>0.099133</td>\n",
              "      <td>0.036918</td>\n",
              "      <td>-0.038008</td>\n",
              "      <td>-0.032474</td>\n",
              "      <td>0.000778</td>\n",
              "      <td>0.042380</td>\n",
              "      <td>0.412111</td>\n",
              "      <td>1.000000</td>\n",
              "      <td>0.043307</td>\n",
              "      <td>0.594125</td>\n",
              "    </tr>\n",
              "    <tr>\n",
              "      <th>nwound</th>\n",
              "      <td>0.008508</td>\n",
              "      <td>0.015282</td>\n",
              "      <td>0.002938</td>\n",
              "      <td>-0.001268</td>\n",
              "      <td>-0.006627</td>\n",
              "      <td>0.020472</td>\n",
              "      <td>0.025804</td>\n",
              "      <td>0.099525</td>\n",
              "      <td>0.000846</td>\n",
              "      <td>0.011303</td>\n",
              "      <td>0.013889</td>\n",
              "      <td>0.001013</td>\n",
              "      <td>-0.009799</td>\n",
              "      <td>0.534375</td>\n",
              "      <td>0.043307</td>\n",
              "      <td>1.000000</td>\n",
              "      <td>0.038568</td>\n",
              "    </tr>\n",
              "    <tr>\n",
              "      <th>nwoundte</th>\n",
              "      <td>0.043430</td>\n",
              "      <td>0.027904</td>\n",
              "      <td>0.005091</td>\n",
              "      <td>0.001812</td>\n",
              "      <td>0.001592</td>\n",
              "      <td>-0.025643</td>\n",
              "      <td>-0.012840</td>\n",
              "      <td>0.001780</td>\n",
              "      <td>0.029672</td>\n",
              "      <td>-0.032612</td>\n",
              "      <td>-0.029691</td>\n",
              "      <td>-0.044804</td>\n",
              "      <td>0.032963</td>\n",
              "      <td>0.141016</td>\n",
              "      <td>0.594125</td>\n",
              "      <td>0.038568</td>\n",
              "      <td>1.000000</td>\n",
              "    </tr>\n",
              "  </tbody>\n",
              "</table>\n",
              "</div>"
            ],
            "text/plain": [
              "              Unnamed: 0   eventid    imonth      iday  extended    region  \\\n",
              "Unnamed: 0      1.000000  0.955971  0.034361  0.025062  0.092043  0.386987   \n",
              "eventid         0.955971  1.000000  0.002706  0.018336  0.091761  0.401371   \n",
              "imonth          0.034361  0.002706  1.000000  0.005497 -0.000468 -0.002999   \n",
              "iday            0.025062  0.018336  0.005497  1.000000 -0.004700  0.009710   \n",
              "extended        0.092043  0.091761 -0.000468 -0.004700  1.000000  0.038389   \n",
              "region          0.386987  0.401371 -0.002999  0.009710  0.038389  1.000000   \n",
              "success        -0.109257 -0.082972 -0.002845 -0.011802  0.073233 -0.030909   \n",
              "suicide         0.134261  0.137743  0.003071  0.003593 -0.033961  0.112672   \n",
              "attacktype1     0.090415  0.074173  0.006705 -0.005333  0.272272  0.007642   \n",
              "targtype1       0.079403  0.079080 -0.000948 -0.000052  0.011613  0.041396   \n",
              "targsubtype1    0.043323  0.048798  0.001508 -0.003184  0.022996  0.030704   \n",
              "natlty1        -0.008359 -0.019084 -0.004838  0.003845  0.013609  0.149821   \n",
              "weaptype1       0.010851 -0.011716  0.007863 -0.003019  0.207802  0.013257   \n",
              "nkill           0.015216  0.015351  0.003463 -0.003693  0.027737  0.042062   \n",
              "nkillter        0.048305  0.027579  0.003462 -0.002012  0.005409  0.026296   \n",
              "nwound          0.008508  0.015282  0.002938 -0.001268 -0.006627  0.020472   \n",
              "nwoundte        0.043430  0.027904  0.005091  0.001812  0.001592 -0.025643   \n",
              "\n",
              "               success   suicide  attacktype1  targtype1  targsubtype1  \\\n",
              "Unnamed: 0   -0.109257  0.134261     0.090415   0.079403      0.043323   \n",
              "eventid      -0.082972  0.137743     0.074173   0.079080      0.048798   \n",
              "imonth       -0.002845  0.003071     0.006705  -0.000948      0.001508   \n",
              "iday         -0.011802  0.003593    -0.005333  -0.000052     -0.003184   \n",
              "extended      0.073233 -0.033961     0.272272   0.011613      0.022996   \n",
              "region       -0.030909  0.112672     0.007642   0.041396      0.030704   \n",
              "success       1.000000 -0.031155     0.048408  -0.059637      0.038192   \n",
              "suicide      -0.031155  1.000000    -0.029962  -0.023440     -0.029521   \n",
              "attacktype1   0.048408 -0.029962     1.000000   0.014513      0.022159   \n",
              "targtype1    -0.059637 -0.023440     0.014513   1.000000      0.982772   \n",
              "targsubtype1  0.038192 -0.029521     0.022159   0.982772      1.000000   \n",
              "natlty1      -0.007157 -0.009207     0.013769  -0.034994     -0.022785   \n",
              "weaptype1    -0.008178 -0.039928     0.658954   0.019846      0.029316   \n",
              "nkill         0.053115  0.136086     0.002475   0.008499      0.016344   \n",
              "nkillter     -0.019463  0.099133     0.036918  -0.038008     -0.032474   \n",
              "nwound        0.025804  0.099525     0.000846   0.011303      0.013889   \n",
              "nwoundte     -0.012840  0.001780     0.029672  -0.032612     -0.029691   \n",
              "\n",
              "               natlty1  weaptype1     nkill  nkillter    nwound  nwoundte  \n",
              "Unnamed: 0   -0.008359   0.010851  0.015216  0.048305  0.008508  0.043430  \n",
              "eventid      -0.019084  -0.011716  0.015351  0.027579  0.015282  0.027904  \n",
              "imonth       -0.004838   0.007863  0.003463  0.003462  0.002938  0.005091  \n",
              "iday          0.003845  -0.003019 -0.003693 -0.002012 -0.001268  0.001812  \n",
              "extended      0.013609   0.207802  0.027737  0.005409 -0.006627  0.001592  \n",
              "region        0.149821   0.013257  0.042062  0.026296  0.020472 -0.025643  \n",
              "success      -0.007157  -0.008178  0.053115 -0.019463  0.025804 -0.012840  \n",
              "suicide      -0.009207  -0.039928  0.136086  0.099133  0.099525  0.001780  \n",
              "attacktype1   0.013769   0.658954  0.002475  0.036918  0.000846  0.029672  \n",
              "targtype1    -0.034994   0.019846  0.008499 -0.038008  0.011303 -0.032612  \n",
              "targsubtype1 -0.022785   0.029316  0.016344 -0.032474  0.013889 -0.029691  \n",
              "natlty1       1.000000  -0.008537  0.001667  0.000778  0.001013 -0.044804  \n",
              "weaptype1    -0.008537   1.000000  0.004038  0.042380 -0.009799  0.032963  \n",
              "nkill         0.001667   0.004038  1.000000  0.412111  0.534375  0.141016  \n",
              "nkillter      0.000778   0.042380  0.412111  1.000000  0.043307  0.594125  \n",
              "nwound        0.001013  -0.009799  0.534375  0.043307  1.000000  0.038568  \n",
              "nwoundte     -0.044804   0.032963  0.141016  0.594125  0.038568  1.000000  "
            ]
          },
          "metadata": {
            "tags": []
          },
          "execution_count": 32
        }
      ]
    },
    {
      "metadata": {
        "id": "BmUPCYH4xTOJ",
        "colab_type": "text"
      },
      "cell_type": "markdown",
      "source": [
        "#Features:\n",
        "\n",
        "###imonth/iday:\n",
        "\n",
        "  Consideramos esta feature possivelmente importante visto existirem acontecimentos influenciados diretamente por fatores temporais (feriados religiosos, eleiçoes, entre outros) dependendo do país.\n",
        " \n",
        " \n",
        "###extended:\n",
        " \n",
        "  Acreditamos que a duração do acontecimento poderá ser importante. Acontecimentos que durem mais que um dia de uma forma constante poderá significar melhor organização por parte terrorista ou maior dificuldade de contenção por parte das autoridades.\n",
        "  \n",
        "###success:\n",
        "  \n",
        "  Da mesma maneira que 'extended', poderá tambem significar melhor capacidade de organização por parte terrorista, ou falta de preparação pelas autoridades.\n",
        "  \n",
        "### suicide:\n",
        " \n",
        "  Certos tipos de métodos de ataque levam ao suicidio do(s) atacante(s). Esta feature irá server de suporte á feature do tipo de ataque para suportar esta teoria, criando uma ligação entre o tipo de arma e o local de acontecimento.\n",
        "  \n",
        "### attacktype1:\n",
        " \n",
        "  O método de ataque. Utilizado para criar uma ligação entre este e a região de acontecimento. Paises desenvolvidos iremos encontrar armamento balistico, enquanto medio oriente poderemos contar mais com elementos explosivos.\n",
        "  \n",
        "### targtype1/targsubtype1:\n",
        " \n",
        "  O alvo do ataque. Acreditamos que diferentes regiões têm como algo diferentes elementos (civis, segurança publica, governo).\n",
        "  \n",
        "### weaptype1:\n",
        "  \n",
        "  A arma de ataque. Utilizado como suporte ao método de ataque, pois permite criar uma diferenciação entre tipo de armas ou explosivos utilizados.\n",
        "  \n",
        "### nkill/nwound:\n",
        " \n",
        "  Mortos e feridos do lado atacado. Dependendo do objectivo do ataque, existiram mais mortos ou feridos, relacionando diretamente á mentalidade do pais de acontecimento.\n",
        "  \n",
        "### nkillter/nwoundter:\n",
        " \n",
        " Poderá demonstrar a preparação e capacidade de resposta a ataques terroristas, o qual poderá significar uma região mais desenvolvida.\n",
        " \n"
      ]
    },
    {
      "metadata": {
        "id": "LnBmAUBrwgwr",
        "colab_type": "text"
      },
      "cell_type": "markdown",
      "source": [
        "#Encoding / One Hot Encoding\n",
        "\n",
        "Todas as features que poderiam necessitar de qualquer tipo de encoding ja têm uma coluna diretamente relacionada, onde se encontram valores numericos a serem utilizados como identificadores para seus respectivos Strings.\n"
      ]
    },
    {
      "metadata": {
        "id": "QeKMToSLgn7K",
        "colab_type": "text"
      },
      "cell_type": "markdown",
      "source": [
        "#FINAL\n",
        "\n",
        "Este dataset foi escolhido pois retrata um tópico bastante relevante na atualidade e devido a conter abundante informação sobre este.\n",
        "De entre as várias possíveis escolhas para a *target* do modelo, foi escolhida a região onde ocorreu o ataque, esta target foi escolhido devido às várias possibilidades de análise de dados que provém da previsão da região onde ocorreu o ataque. Através desta previsão podemos criar correlações entre o número de mortes, o tipo de ataque, o objetivo do ataque e as regiões mais propícias a atentados terroristas. \n",
        "\n",
        "Conseguimos a criação de um modelo, *Decision Tree*,  com boa precisão de previsão em relação à target definida, fornecendo valores existentes no dataset.\n",
        "\n",
        "A criação das estatísticas em relação a cada feature do dataset: média; moda; variância, histograma, permite-nos uma avaliação imediata dos dados em relação aos valores mais frequentes e à variância entre estes.\n"
      ]
    }
  ]
}